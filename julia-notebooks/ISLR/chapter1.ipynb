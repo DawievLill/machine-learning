{
 "cells": [
  {
   "cell_type": "markdown",
   "metadata": {},
   "source": [
    "## Introduction to Statistical Learning in Julia\n",
    "\n",
    "This is an attempt to get used to Julia in a machine learning environment. Similar to the replications done in python done by other people. Also, gives some practice in using Julia in general. \n",
    "\n",
    "Trying to see if Julia has some of the same statistical capabilities as that of python and R."
   ]
  },
  {
   "cell_type": "markdown",
   "metadata": {},
   "source": [
    "### Notes, exercises, plots, labs\n",
    "\n",
    "We will try to replicate most of the figures and also do the exercises and labs in the book. "
   ]
  },
  {
   "cell_type": "code",
   "execution_count": 1,
   "metadata": {},
   "outputs": [
    {
     "data": {
      "text/plain": [
       "21-element Array{String,1}:\n",
       " \"Advertising.csv\"\n",
       " \"Credit.csv\"     \n",
       " \"auto.csv\"       \n",
       " \"boston.csv\"     \n",
       " \"caravan.csv\"    \n",
       " \"carseats.csv\"   \n",
       " \"college.csv\"    \n",
       " \"default.csv\"    \n",
       " \"hitters.csv\"    \n",
       " \"khan_xtest.csv\" \n",
       " \"khan_xtrain.csv\"\n",
       " \"khan_ytest.csv\" \n",
       " \"khan_ytrain.csv\"\n",
       " \"nci60_data.csv\" \n",
       " \"nci60_labs.csv\" \n",
       " \"portfolio.csv\"  \n",
       " \"smarket.csv\"    \n",
       " \"titanic.csv\"    \n",
       " \"usarrests.csv\"  \n",
       " \"wage.csv\"       \n",
       " \"weekly.csv\"     "
      ]
     },
     "execution_count": 1,
     "metadata": {},
     "output_type": "execute_result"
    }
   ],
   "source": [
    "readdir(\"data\") # Gives an idea of the data files in the directory"
   ]
  },
  {
   "cell_type": "markdown",
   "metadata": {},
   "source": [
    "### Youtube videos in the notebook\n",
    "\n",
    "We can always watch some of the Youtube videos inside of the notebook. We have to use a python call here, because the functionality does not exist in Julia yet. Good reason to get to know more than one programming language. If we are looking to call images then we can use the Julia Images (images.jl) package. "
   ]
  },
  {
   "cell_type": "code",
   "execution_count": 15,
   "metadata": {},
   "outputs": [
    {
     "data": {
      "image/jpeg": "[encoded data removed]",
      "text/html": [
       "\n",
       "        <iframe\n",
       "            width=\"400\"\n",
       "            height=\"300\"\n",
       "            src=\"https://www.youtube.com/embed/2wLfFB_6SKI\"\n",
       "            frameborder=\"0\"\n",
       "            allowfullscreen\n",
       "        ></iframe>\n",
       "        "
      ],
      "text/plain": [
       "PyObject <IPython.lib.display.YouTubeVideo object at 0x12b5cd710>"
      ]
     },
     "execution_count": 15,
     "metadata": {},
     "output_type": "execute_result"
    }
   ],
   "source": [
    "# [Note] Explore whether a better method exists at this point.\n",
    "\n",
    "using PyCall\n",
    "@pyimport  IPython.display as d  # using macros we can call from python\n",
    "d.YouTubeVideo(\"2wLfFB_6SKI\")"
   ]
  },
  {
   "cell_type": "markdown",
   "metadata": {},
   "source": [
    "## ISLR Chapter 1\n",
    "\n",
    "This chapter starts with a look at **wage data**."
   ]
  },
  {
   "cell_type": "code",
   "execution_count": 34,
   "metadata": {},
   "outputs": [],
   "source": [
    "# Look at the notation for CSV.jl and DataFrames.jl\n",
    "using DataFrames, CSV # Best package that I know of at this point.\n",
    "df_wage = CSV.read(\"data/wage.csv\"); # Creates a dataframe"
   ]
  },
  {
   "cell_type": "code",
   "execution_count": 35,
   "metadata": {},
   "outputs": [
    {
     "data": {
      "text/html": [
       "<table class=\"data-frame\"><thead><tr><th></th><th>year</th><th>age</th><th>sex</th><th>maritl</th><th>race</th><th>education</th><th>region</th><th>jobclass</th><th>health</th><th>health_ins</th><th>logwage</th><th>wage</th></tr></thead><tbody><tr><th>1</th><td>2006</td><td>18</td><td>1. Male</td><td>1. Never Married</td><td>1. White</td><td>1. &lt; HS Grad</td><td>2. Middle Atlantic</td><td>1. Industrial</td><td>1. &lt;=Good</td><td>2. No</td><td>4.31806</td><td>75.0432</td></tr><tr><th>2</th><td>2004</td><td>24</td><td>1. Male</td><td>1. Never Married</td><td>1. White</td><td>4. College Grad</td><td>2. Middle Atlantic</td><td>2. Information</td><td>2. &gt;=Very Good</td><td>2. No</td><td>4.25527</td><td>70.476</td></tr><tr><th>3</th><td>2003</td><td>45</td><td>1. Male</td><td>2. Married</td><td>1. White</td><td>3. Some College</td><td>2. Middle Atlantic</td><td>1. Industrial</td><td>1. &lt;=Good</td><td>1. Yes</td><td>4.87506</td><td>130.982</td></tr><tr><th>4</th><td>2003</td><td>43</td><td>1. Male</td><td>2. Married</td><td>3. Asian</td><td>4. College Grad</td><td>2. Middle Atlantic</td><td>2. Information</td><td>2. &gt;=Very Good</td><td>1. Yes</td><td>5.04139</td><td>154.685</td></tr><tr><th>5</th><td>2005</td><td>50</td><td>1. Male</td><td>4. Divorced</td><td>1. White</td><td>2. HS Grad</td><td>2. Middle Atlantic</td><td>2. Information</td><td>1. &lt;=Good</td><td>1. Yes</td><td>4.31806</td><td>75.0432</td></tr><tr><th>6</th><td>2008</td><td>54</td><td>1. Male</td><td>2. Married</td><td>1. White</td><td>4. College Grad</td><td>2. Middle Atlantic</td><td>2. Information</td><td>2. &gt;=Very Good</td><td>1. Yes</td><td>4.8451</td><td>127.116</td></tr></tbody></table>"
      ],
      "text/plain": [
       "6×12 DataFrame. Omitted printing of 6 columns\n",
       "│ Row │ year │ age │ sex     │ maritl           │ race     │ education       │\n",
       "├─────┼──────┼─────┼─────────┼──────────────────┼──────────┼─────────────────┤\n",
       "│ 1   │ 2006 │ 18  │ 1. Male │ 1. Never Married │ 1. White │ 1. < HS Grad    │\n",
       "│ 2   │ 2004 │ 24  │ 1. Male │ 1. Never Married │ 1. White │ 4. College Grad │\n",
       "│ 3   │ 2003 │ 45  │ 1. Male │ 2. Married       │ 1. White │ 3. Some College │\n",
       "│ 4   │ 2003 │ 43  │ 1. Male │ 2. Married       │ 3. Asian │ 4. College Grad │\n",
       "│ 5   │ 2005 │ 50  │ 1. Male │ 4. Divorced      │ 1. White │ 2. HS Grad      │\n",
       "│ 6   │ 2008 │ 54  │ 1. Male │ 2. Married       │ 1. White │ 4. College Grad │"
      ]
     },
     "execution_count": 35,
     "metadata": {},
     "output_type": "execute_result"
    }
   ],
   "source": [
    "head(df_wage)"
   ]
  },
  {
   "cell_type": "code",
   "execution_count": 36,
   "metadata": {},
   "outputs": [
    {
     "data": {
      "text/html": [
       "<table class=\"data-frame\"><thead><tr><th></th><th>variable</th><th>mean</th><th>min</th><th>median</th><th>max</th><th>nunique</th><th>nmissing</th><th>eltype</th></tr></thead><tbody><tr><th>1</th><td>year</td><td>2005.79</td><td>2003</td><td>2006.0</td><td>2009</td><td></td><td>0</td><td>Int64</td></tr><tr><th>2</th><td>age</td><td>42.4147</td><td>18</td><td>42.0</td><td>80</td><td></td><td>0</td><td>Int64</td></tr><tr><th>3</th><td>sex</td><td></td><td>1. Male</td><td></td><td>1. Male</td><td>1</td><td>0</td><td>CategoricalString{UInt32}</td></tr><tr><th>4</th><td>maritl</td><td></td><td>1. Never Married</td><td></td><td>5. Separated</td><td>5</td><td>0</td><td>CategoricalString{UInt32}</td></tr><tr><th>5</th><td>race</td><td></td><td>1. White</td><td></td><td>2. Black</td><td>4</td><td>0</td><td>CategoricalString{UInt32}</td></tr><tr><th>6</th><td>education</td><td></td><td>1. &lt; HS Grad</td><td></td><td>5. Advanced Degree</td><td>5</td><td>0</td><td>CategoricalString{UInt32}</td></tr><tr><th>7</th><td>region</td><td></td><td>2. Middle Atlantic</td><td></td><td>2. Middle Atlantic</td><td>1</td><td>0</td><td>CategoricalString{UInt32}</td></tr><tr><th>8</th><td>jobclass</td><td></td><td>1. Industrial</td><td></td><td>2. Information</td><td>2</td><td>0</td><td>CategoricalString{UInt32}</td></tr><tr><th>9</th><td>health</td><td></td><td>1. &lt;=Good</td><td></td><td>2. &gt;=Very Good</td><td>2</td><td>0</td><td>CategoricalString{UInt32}</td></tr><tr><th>10</th><td>health_ins</td><td></td><td>2. No</td><td></td><td>1. Yes</td><td>2</td><td>0</td><td>CategoricalString{UInt32}</td></tr><tr><th>11</th><td>logwage</td><td>4.65391</td><td>3.0</td><td>4.65321</td><td>5.76313</td><td></td><td>0</td><td>Float64</td></tr><tr><th>12</th><td>wage</td><td>111.704</td><td>20.0855</td><td>104.922</td><td>318.342</td><td></td><td>0</td><td>Float64</td></tr></tbody></table>"
      ],
      "text/plain": [
       "12×8 DataFrame. Omitted printing of 4 columns\n",
       "│ Row │ variable   │ mean    │ min                │ median  │\n",
       "├─────┼────────────┼─────────┼────────────────────┼─────────┤\n",
       "│ 1   │ year       │ 2005.79 │ 2003               │ 2006.0  │\n",
       "│ 2   │ age        │ 42.4147 │ 18                 │ 42.0    │\n",
       "│ 3   │ sex        │         │ 1. Male            │         │\n",
       "│ 4   │ maritl     │         │ 1. Never Married   │         │\n",
       "│ 5   │ race       │         │ 1. White           │         │\n",
       "│ 6   │ education  │         │ 1. < HS Grad       │         │\n",
       "│ 7   │ region     │         │ 2. Middle Atlantic │         │\n",
       "│ 8   │ jobclass   │         │ 1. Industrial      │         │\n",
       "│ 9   │ health     │         │ 1. <=Good          │         │\n",
       "│ 10  │ health_ins │         │ 2. No              │         │\n",
       "│ 11  │ logwage    │ 4.65391 │ 3.0                │ 4.65321 │\n",
       "│ 12  │ wage       │ 111.704 │ 20.0855            │ 104.922 │"
      ]
     },
     "execution_count": 36,
     "metadata": {},
     "output_type": "execute_result"
    }
   ],
   "source": [
    "describe(df_wage) # From the Statsbase.jl package"
   ]
  },
  {
   "cell_type": "code",
   "execution_count": 1,
   "metadata": {},
   "outputs": [
    {
     "ename": "LoadError",
     "evalue": "\u001b[91mArgumentError: Module Gadfly not found in current path.\nRun `Pkg.add(\"Gadfly\")` to install the Gadfly package.\u001b[39m",
     "output_type": "error",
     "traceback": [
      "\u001b[91mArgumentError: Module Gadfly not found in current path.\nRun `Pkg.add(\"Gadfly\")` to install the Gadfly package.\u001b[39m",
      "",
      "Stacktrace:",
      " [1] \u001b[1m_require\u001b[22m\u001b[22m\u001b[1m(\u001b[22m\u001b[22m::Symbol\u001b[1m)\u001b[22m\u001b[22m at \u001b[1m./loading.jl:435\u001b[22m\u001b[22m",
      " [2] \u001b[1mrequire\u001b[22m\u001b[22m\u001b[1m(\u001b[22m\u001b[22m::Symbol\u001b[1m)\u001b[22m\u001b[22m at \u001b[1m./loading.jl:405\u001b[22m\u001b[22m"
     ]
    }
   ],
   "source": [
    "using Gadfly # This is supposed to be the equivalent of ggplot for Julia\n",
    "\n",
    "# Does not work with Julia 1.0 at this point. "
   ]
  },
  {
   "cell_type": "code",
   "execution_count": null,
   "metadata": {},
   "outputs": [],
   "source": []
  }
 ],
 "metadata": {
  "kernelspec": {
   "display_name": "Julia 0.6.4",
   "language": "julia",
   "name": "julia-0.6"
  },
  "language_info": {
   "file_extension": ".jl",
   "mimetype": "application/julia",
   "name": "julia",
   "version": "0.6.4"
  }
 },
 "nbformat": 4,
 "nbformat_minor": 2
}
